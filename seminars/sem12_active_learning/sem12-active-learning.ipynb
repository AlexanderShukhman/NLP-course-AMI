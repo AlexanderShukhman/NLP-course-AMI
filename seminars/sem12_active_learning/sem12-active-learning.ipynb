{
 "cells": [
  {
   "cell_type": "markdown",
   "metadata": {},
   "source": [
    "## Active Learning"
   ]
  },
  {
   "cell_type": "markdown",
   "metadata": {},
   "source": [
    "Активное обучение $-$ класс алгоритмов обучения моделей машинного обучения. Алгоритмы активного обучения отличаются тем, могут интерактивно запрашивать пользователя (или некоторый другой источник информации) для разметки новых примеров данных."
   ]
  },
  {
   "cell_type": "markdown",
   "metadata": {},
   "source": [
    "<img src=\"active_learning.png\">"
   ]
  },
  {
   "cell_type": "markdown",
   "metadata": {},
   "source": [
    "## Active Learning Strategies"
   ]
  },
  {
   "cell_type": "markdown",
   "metadata": {},
   "source": [
    "#### Pool-Based Sampling"
   ]
  },
  {
   "cell_type": "markdown",
   "metadata": {},
   "source": [
    "В этом сценарии экземпляры извлекаются из всего пула данных и им присваивается информативная оценка, которая показывает, насколько хорошо текущий алгоритм «понимает» данные. \n",
    "\n",
    "Затем система выбираются и размечаются наиболее информативные примеры."
   ]
  },
  {
   "cell_type": "markdown",
   "metadata": {},
   "source": [
    "#### Uncertainty sampling"
   ]
  },
  {
   "cell_type": "markdown",
   "metadata": {},
   "source": [
    "\n",
    "В рамках этого алгоритма размечаются те примеры, на которых текущая модель наименее уверена.\n",
    "\n",
    "В качестве функций \"уверенности\" можно использовать вероятности классов или расстояния до разделяющей гиперплоскости."
   ]
  },
  {
   "cell_type": "markdown",
   "metadata": {},
   "source": [
    "#### Membership Query Synthesis"
   ]
  },
  {
   "cell_type": "markdown",
   "metadata": {},
   "source": [
    "Здесь алгритм обучения модели генерирует свои собственные примеры из некоторого настраиваемого распределения. \n",
    "Эти сгенерированные примеры отправляются на разметку и модель дообучается с учетом разметки этих примеров."
   ]
  },
  {
   "cell_type": "markdown",
   "metadata": {},
   "source": [
    "#### Query by Committee"
   ]
  },
  {
   "cell_type": "markdown",
   "metadata": {},
   "source": [
    "Идея: построить ансамбль моделей $a_1,...,a_T$. \n",
    "\n",
    "Выбирать новые объекты $x_i$ с наибольшей несогласованностью решений ансамбля моделей.\n",
    "\n"
   ]
  },
  {
   "cell_type": "markdown",
   "metadata": {},
   "source": [
    "Принцип максимума энтропии: выбираем $x_i$, на котором $a_t(x_i)$ максимально различны."
   ]
  },
  {
   "cell_type": "markdown",
   "metadata": {},
   "source": [
    "Принцип максимума средней $KL$-дивергенции:выбираем $x_i$ , на котором $P_t(y|x_i)$ максимально различны:\n",
    "\n",
    "$С(y|u) = \\frac{1}{T}\\sum_{t=1}^T P_t(y|u)$ - консенсус комитета "
   ]
  },
  {
   "cell_type": "markdown",
   "metadata": {},
   "source": [
    "## SVM для Active Learning"
   ]
  },
  {
   "cell_type": "markdown",
   "metadata": {},
   "source": [
    "Некоторые активные алгоритмы обучения построены на алгоритме SVM и используют структуру SVM для определения того, какие точки данных нужно размечать. \n",
    "\n",
    "SVM используется для определения уверенности модели в предсказании на каждом из примеров выборки. \n",
    "В качестве меры уверенности служит расстояние от объекта до построенной не текущей итерации разделяющей гиперплоскости."
   ]
  },
  {
   "cell_type": "markdown",
   "metadata": {},
   "source": [
    "## Active Learning for texts classification"
   ]
  },
  {
   "cell_type": "markdown",
   "metadata": {},
   "source": [
    "Рассмотрим алгоритм pool-based active learning на примере задачи классификации твитов по тональности."
   ]
  },
  {
   "cell_type": "markdown",
   "metadata": {},
   "source": [
    "\n",
    "1. Разделить данные на X_pool (выборка, которую можно размечать) и X_test.\n",
    "2. Выбрать $k$ примеров из X_pool для начального X_train и разметить их. Остальные данные в X_pool $-$ валидационное множество. \n",
    "3. Обучить модель на  X_train.\n",
    "5. Сделать predict обученной моделью на X_pool, вычислить вероятности для каждого $x_i$.\n",
    "6. Вычислить качество работы модели на X_test.\n",
    "7. Выбрать $k$ наиболее информативных объектов из X_pool, основываясь на уверенности модели в каждом из объектов (например, вероятности классов).\n",
    "8. Переменести эти $k$ выбранных объектов в X_train.\n",
    "9. Если качество работы модели на X_test достаточное, то останавливаемся, иначе возвращаемся к шагу 3."
   ]
  },
  {
   "cell_type": "code",
   "execution_count": 1,
   "metadata": {},
   "outputs": [],
   "source": [
    "from sklearn.metrics import f1_score"
   ]
  },
  {
   "cell_type": "code",
   "execution_count": 2,
   "metadata": {},
   "outputs": [],
   "source": [
    "import pandas as pd\n",
    "import numpy as np\n",
    "from sklearn.metrics import *\n",
    "from sklearn.model_selection import train_test_split\n",
    "from sklearn.pipeline import Pipeline\n",
    "from nltk import ngrams\n",
    "\n",
    "from sklearn.linear_model import LogisticRegression \n",
    "from sklearn.feature_extraction.text import CountVectorizer"
   ]
  },
  {
   "cell_type": "code",
   "execution_count": 4,
   "metadata": {},
   "outputs": [
    {
     "name": "stdout",
     "output_type": "stream",
     "text": [
      "(5572, 2)\n"
     ]
    },
    {
     "data": {
      "text/html": [
       "<div>\n",
       "<style scoped>\n",
       "    .dataframe tbody tr th:only-of-type {\n",
       "        vertical-align: middle;\n",
       "    }\n",
       "\n",
       "    .dataframe tbody tr th {\n",
       "        vertical-align: top;\n",
       "    }\n",
       "\n",
       "    .dataframe thead th {\n",
       "        text-align: right;\n",
       "    }\n",
       "</style>\n",
       "<table border=\"1\" class=\"dataframe\">\n",
       "  <thead>\n",
       "    <tr style=\"text-align: right;\">\n",
       "      <th></th>\n",
       "      <th>Category</th>\n",
       "      <th>Message</th>\n",
       "    </tr>\n",
       "  </thead>\n",
       "  <tbody>\n",
       "    <tr>\n",
       "      <th>0</th>\n",
       "      <td>ham</td>\n",
       "      <td>Go until jurong point, crazy.. Available only ...</td>\n",
       "    </tr>\n",
       "    <tr>\n",
       "      <th>1</th>\n",
       "      <td>ham</td>\n",
       "      <td>Ok lar... Joking wif u oni...</td>\n",
       "    </tr>\n",
       "    <tr>\n",
       "      <th>2</th>\n",
       "      <td>spam</td>\n",
       "      <td>Free entry in 2 a wkly comp to win FA Cup fina...</td>\n",
       "    </tr>\n",
       "    <tr>\n",
       "      <th>3</th>\n",
       "      <td>ham</td>\n",
       "      <td>U dun say so early hor... U c already then say...</td>\n",
       "    </tr>\n",
       "    <tr>\n",
       "      <th>4</th>\n",
       "      <td>ham</td>\n",
       "      <td>Nah I don't think he goes to usf, he lives aro...</td>\n",
       "    </tr>\n",
       "  </tbody>\n",
       "</table>\n",
       "</div>"
      ],
      "text/plain": [
       "  Category                                            Message\n",
       "0      ham  Go until jurong point, crazy.. Available only ...\n",
       "1      ham                      Ok lar... Joking wif u oni...\n",
       "2     spam  Free entry in 2 a wkly comp to win FA Cup fina...\n",
       "3      ham  U dun say so early hor... U c already then say...\n",
       "4      ham  Nah I don't think he goes to usf, he lives aro..."
      ]
     },
     "execution_count": 4,
     "metadata": {},
     "output_type": "execute_result"
    }
   ],
   "source": [
    "df = pd.read_csv('spam_text_classification_data.csv')\n",
    "print(df.shape)\n",
    "df.head()"
   ]
  },
  {
   "cell_type": "code",
   "execution_count": 5,
   "metadata": {},
   "outputs": [],
   "source": [
    "df['label'] = [0 if category == 'ham' else 1 for category in df['Category']]"
   ]
  },
  {
   "cell_type": "code",
   "execution_count": 20,
   "metadata": {},
   "outputs": [],
   "source": [
    "X,X_test,y,y_test = train_test_split(np.array(df['Message']), np.array(df['label']))"
   ]
  },
  {
   "cell_type": "code",
   "execution_count": 21,
   "metadata": {},
   "outputs": [],
   "source": [
    "def get_confidence(class_probs):\n",
    "    return abs(0.5-class_probs[0])"
   ]
  },
  {
   "cell_type": "code",
   "execution_count": 22,
   "metadata": {},
   "outputs": [
    {
     "name": "stdout",
     "output_type": "stream",
     "text": [
      "50 train samples\n",
      "              precision    recall  f1-score   support\n",
      "\n",
      "           0       1.00      0.89      0.94      1338\n",
      "           1       0.25      0.91      0.39        55\n",
      "\n",
      "   micro avg       0.89      0.89      0.89      1393\n",
      "   macro avg       0.62      0.90      0.66      1393\n",
      "weighted avg       0.97      0.89      0.92      1393\n",
      "\n",
      "60 train samples\n",
      "              precision    recall  f1-score   support\n",
      "\n",
      "           0       0.99      0.91      0.95      1292\n",
      "           1       0.42      0.84      0.56       101\n",
      "\n",
      "   micro avg       0.91      0.91      0.91      1393\n",
      "   macro avg       0.70      0.88      0.75      1393\n",
      "weighted avg       0.95      0.91      0.92      1393\n",
      "\n",
      "70 train samples\n",
      "              precision    recall  f1-score   support\n",
      "\n",
      "           0       0.98      0.94      0.96      1250\n",
      "           1       0.61      0.85      0.71       143\n",
      "\n",
      "   micro avg       0.93      0.93      0.93      1393\n",
      "   macro avg       0.79      0.89      0.83      1393\n",
      "weighted avg       0.94      0.93      0.93      1393\n",
      "\n",
      "80 train samples\n",
      "              precision    recall  f1-score   support\n",
      "\n",
      "           0       0.99      0.95      0.97      1237\n",
      "           1       0.71      0.91      0.80       156\n",
      "\n",
      "   micro avg       0.95      0.95      0.95      1393\n",
      "   macro avg       0.85      0.93      0.88      1393\n",
      "weighted avg       0.96      0.95      0.95      1393\n",
      "\n",
      "90 train samples\n",
      "              precision    recall  f1-score   support\n",
      "\n",
      "           0       0.98      0.97      0.98      1214\n",
      "           1       0.80      0.90      0.85       179\n",
      "\n",
      "   micro avg       0.96      0.96      0.96      1393\n",
      "   macro avg       0.89      0.93      0.91      1393\n",
      "weighted avg       0.96      0.96      0.96      1393\n",
      "\n",
      "100 train samples\n",
      "              precision    recall  f1-score   support\n",
      "\n",
      "           0       0.99      0.96      0.98      1222\n",
      "           1       0.79      0.92      0.85       171\n",
      "\n",
      "   micro avg       0.96      0.96      0.96      1393\n",
      "   macro avg       0.89      0.94      0.91      1393\n",
      "weighted avg       0.96      0.96      0.96      1393\n",
      "\n",
      "110 train samples\n",
      "              precision    recall  f1-score   support\n",
      "\n",
      "           0       0.99      0.97      0.98      1229\n",
      "           1       0.79      0.96      0.87       164\n",
      "\n",
      "   micro avg       0.96      0.96      0.96      1393\n",
      "   macro avg       0.89      0.96      0.92      1393\n",
      "weighted avg       0.97      0.96      0.97      1393\n",
      "\n",
      "120 train samples\n",
      "              precision    recall  f1-score   support\n",
      "\n",
      "           0       1.00      0.96      0.98      1233\n",
      "           1       0.77      0.97      0.86       160\n",
      "\n",
      "   micro avg       0.96      0.96      0.96      1393\n",
      "   macro avg       0.88      0.97      0.92      1393\n",
      "weighted avg       0.97      0.96      0.97      1393\n",
      "\n",
      "130 train samples\n",
      "              precision    recall  f1-score   support\n",
      "\n",
      "           0       0.99      0.97      0.98      1213\n",
      "           1       0.82      0.92      0.87       180\n",
      "\n",
      "   micro avg       0.96      0.96      0.96      1393\n",
      "   macro avg       0.90      0.94      0.92      1393\n",
      "weighted avg       0.97      0.96      0.96      1393\n",
      "\n",
      "140 train samples\n",
      "              precision    recall  f1-score   support\n",
      "\n",
      "           0       1.00      0.97      0.98      1221\n",
      "           1       0.84      0.98      0.90       172\n",
      "\n",
      "   micro avg       0.97      0.97      0.97      1393\n",
      "   macro avg       0.92      0.97      0.94      1393\n",
      "weighted avg       0.98      0.97      0.97      1393\n",
      "\n",
      "150 train samples\n",
      "              precision    recall  f1-score   support\n",
      "\n",
      "           0       1.00      0.97      0.98      1226\n",
      "           1       0.82      0.99      0.90       167\n",
      "\n",
      "   micro avg       0.97      0.97      0.97      1393\n",
      "   macro avg       0.91      0.98      0.94      1393\n",
      "weighted avg       0.98      0.97      0.97      1393\n",
      "\n",
      "160 train samples\n",
      "              precision    recall  f1-score   support\n",
      "\n",
      "           0       1.00      0.97      0.99      1226\n",
      "           1       0.83      0.99      0.90       167\n",
      "\n",
      "   micro avg       0.97      0.97      0.97      1393\n",
      "   macro avg       0.91      0.98      0.94      1393\n",
      "weighted avg       0.98      0.97      0.98      1393\n",
      "\n",
      "170 train samples\n",
      "              precision    recall  f1-score   support\n",
      "\n",
      "           0       1.00      0.97      0.99      1223\n",
      "           1       0.85      1.00      0.92       170\n",
      "\n",
      "   micro avg       0.98      0.98      0.98      1393\n",
      "   macro avg       0.92      0.99      0.95      1393\n",
      "weighted avg       0.98      0.98      0.98      1393\n",
      "\n",
      "180 train samples\n",
      "              precision    recall  f1-score   support\n",
      "\n",
      "           0       1.00      0.98      0.99      1221\n",
      "           1       0.86      1.00      0.92       172\n",
      "\n",
      "   micro avg       0.98      0.98      0.98      1393\n",
      "   macro avg       0.93      0.99      0.96      1393\n",
      "weighted avg       0.98      0.98      0.98      1393\n",
      "\n",
      "190 train samples\n",
      "              precision    recall  f1-score   support\n",
      "\n",
      "           0       1.00      0.98      0.99      1216\n",
      "           1       0.87      0.99      0.93       177\n",
      "\n",
      "   micro avg       0.98      0.98      0.98      1393\n",
      "   macro avg       0.93      0.98      0.96      1393\n",
      "weighted avg       0.98      0.98      0.98      1393\n",
      "\n",
      "200 train samples\n",
      "              precision    recall  f1-score   support\n",
      "\n",
      "           0       1.00      0.98      0.99      1216\n",
      "           1       0.87      0.99      0.93       177\n",
      "\n",
      "   micro avg       0.98      0.98      0.98      1393\n",
      "   macro avg       0.93      0.98      0.96      1393\n",
      "weighted avg       0.98      0.98      0.98      1393\n",
      "\n",
      "210 train samples\n",
      "              precision    recall  f1-score   support\n",
      "\n",
      "           0       1.00      0.98      0.99      1215\n",
      "           1       0.87      0.98      0.92       178\n",
      "\n",
      "   micro avg       0.98      0.98      0.98      1393\n",
      "   macro avg       0.93      0.98      0.96      1393\n",
      "weighted avg       0.98      0.98      0.98      1393\n",
      "\n",
      "220 train samples\n",
      "              precision    recall  f1-score   support\n",
      "\n",
      "           0       1.00      0.98      0.99      1217\n",
      "           1       0.88      1.00      0.93       176\n",
      "\n",
      "   micro avg       0.98      0.98      0.98      1393\n",
      "   macro avg       0.94      0.99      0.96      1393\n",
      "weighted avg       0.98      0.98      0.98      1393\n",
      "\n",
      "230 train samples\n",
      "              precision    recall  f1-score   support\n",
      "\n",
      "           0       1.00      0.98      0.99      1215\n",
      "           1       0.89      1.00      0.94       178\n",
      "\n",
      "   micro avg       0.98      0.98      0.98      1393\n",
      "   macro avg       0.94      0.99      0.96      1393\n",
      "weighted avg       0.99      0.98      0.98      1393\n",
      "\n",
      "240 train samples\n",
      "              precision    recall  f1-score   support\n",
      "\n",
      "           0       1.00      0.98      0.99      1214\n",
      "           1       0.88      0.99      0.93       179\n",
      "\n",
      "   micro avg       0.98      0.98      0.98      1393\n",
      "   macro avg       0.94      0.98      0.96      1393\n",
      "weighted avg       0.98      0.98      0.98      1393\n",
      "\n",
      "250 train samples\n",
      "              precision    recall  f1-score   support\n",
      "\n",
      "           0       1.00      0.98      0.99      1209\n",
      "           1       0.89      0.97      0.93       184\n",
      "\n",
      "   micro avg       0.98      0.98      0.98      1393\n",
      "   macro avg       0.94      0.98      0.96      1393\n",
      "weighted avg       0.98      0.98      0.98      1393\n",
      "\n",
      "260 train samples\n",
      "              precision    recall  f1-score   support\n",
      "\n",
      "           0       1.00      0.98      0.99      1214\n",
      "           1       0.88      0.99      0.93       179\n",
      "\n",
      "   micro avg       0.98      0.98      0.98      1393\n",
      "   macro avg       0.94      0.98      0.96      1393\n",
      "weighted avg       0.98      0.98      0.98      1393\n",
      "\n",
      "270 train samples\n",
      "              precision    recall  f1-score   support\n",
      "\n",
      "           0       1.00      0.98      0.99      1214\n",
      "           1       0.88      0.99      0.93       179\n",
      "\n",
      "   micro avg       0.98      0.98      0.98      1393\n",
      "   macro avg       0.94      0.98      0.96      1393\n",
      "weighted avg       0.98      0.98      0.98      1393\n",
      "\n",
      "280 train samples\n",
      "              precision    recall  f1-score   support\n",
      "\n",
      "           0       1.00      0.98      0.99      1212\n",
      "           1       0.89      0.98      0.93       181\n",
      "\n",
      "   micro avg       0.98      0.98      0.98      1393\n",
      "   macro avg       0.94      0.98      0.96      1393\n",
      "weighted avg       0.98      0.98      0.98      1393\n",
      "\n",
      "290 train samples\n",
      "              precision    recall  f1-score   support\n",
      "\n",
      "           0       1.00      0.98      0.99      1215\n",
      "           1       0.88      0.99      0.93       178\n",
      "\n",
      "   micro avg       0.98      0.98      0.98      1393\n",
      "   macro avg       0.94      0.98      0.96      1393\n",
      "weighted avg       0.98      0.98      0.98      1393\n",
      "\n"
     ]
    },
    {
     "name": "stdout",
     "output_type": "stream",
     "text": [
      "300 train samples\n",
      "              precision    recall  f1-score   support\n",
      "\n",
      "           0       1.00      0.98      0.99      1215\n",
      "           1       0.88      0.99      0.93       178\n",
      "\n",
      "   micro avg       0.98      0.98      0.98      1393\n",
      "   macro avg       0.94      0.99      0.96      1393\n",
      "weighted avg       0.98      0.98      0.98      1393\n",
      "\n",
      "310 train samples\n",
      "              precision    recall  f1-score   support\n",
      "\n",
      "           0       1.00      0.98      0.99      1214\n",
      "           1       0.89      0.99      0.94       179\n",
      "\n",
      "   micro avg       0.98      0.98      0.98      1393\n",
      "   macro avg       0.94      0.99      0.96      1393\n",
      "weighted avg       0.98      0.98      0.98      1393\n",
      "\n",
      "320 train samples\n",
      "              precision    recall  f1-score   support\n",
      "\n",
      "           0       1.00      0.98      0.99      1213\n",
      "           1       0.89      0.99      0.93       180\n",
      "\n",
      "   micro avg       0.98      0.98      0.98      1393\n",
      "   macro avg       0.94      0.98      0.96      1393\n",
      "weighted avg       0.98      0.98      0.98      1393\n",
      "\n",
      "330 train samples\n",
      "              precision    recall  f1-score   support\n",
      "\n",
      "           0       1.00      0.98      0.99      1213\n",
      "           1       0.89      0.99      0.94       180\n",
      "\n",
      "   micro avg       0.98      0.98      0.98      1393\n",
      "   macro avg       0.94      0.99      0.97      1393\n",
      "weighted avg       0.99      0.98      0.98      1393\n",
      "\n",
      "340 train samples\n",
      "              precision    recall  f1-score   support\n",
      "\n",
      "           0       1.00      0.98      0.99      1212\n",
      "           1       0.89      0.99      0.94       181\n",
      "\n",
      "   micro avg       0.98      0.98      0.98      1393\n",
      "   macro avg       0.94      0.99      0.96      1393\n",
      "weighted avg       0.98      0.98      0.98      1393\n",
      "\n",
      "350 train samples\n",
      "              precision    recall  f1-score   support\n",
      "\n",
      "           0       1.00      0.98      0.99      1211\n",
      "           1       0.90      0.99      0.95       182\n",
      "\n",
      "   micro avg       0.98      0.98      0.98      1393\n",
      "   macro avg       0.95      0.99      0.97      1393\n",
      "weighted avg       0.99      0.98      0.99      1393\n",
      "\n",
      "360 train samples\n",
      "              precision    recall  f1-score   support\n",
      "\n",
      "           0       1.00      0.98      0.99      1212\n",
      "           1       0.90      0.99      0.94       181\n",
      "\n",
      "   micro avg       0.98      0.98      0.98      1393\n",
      "   macro avg       0.95      0.99      0.97      1393\n",
      "weighted avg       0.99      0.98      0.98      1393\n",
      "\n",
      "370 train samples\n",
      "              precision    recall  f1-score   support\n",
      "\n",
      "           0       1.00      0.99      0.99      1209\n",
      "           1       0.91      0.99      0.95       184\n",
      "\n",
      "   micro avg       0.99      0.99      0.99      1393\n",
      "   macro avg       0.95      0.99      0.97      1393\n",
      "weighted avg       0.99      0.99      0.99      1393\n",
      "\n"
     ]
    }
   ],
   "source": [
    "train_size = 50\n",
    "\n",
    "dataset_size = X.shape[0]\n",
    "target_score = 0.95\n",
    "score = 0\n",
    "step = 10\n",
    "\n",
    "X_train = X[:train_size]\n",
    "y_train = y[:train_size]\n",
    "X_pool = X[train_size:]\n",
    "y_pool = y[train_size:]\n",
    "\n",
    "scores = [0]\n",
    "train_szs = [0]\n",
    "\n",
    "while score < target_score and train_size <= dataset_size:\n",
    "    vec = CountVectorizer(ngram_range=(1, 1))\n",
    "    bow = vec.fit_transform(X_train)\n",
    "    clf = LogisticRegression()\n",
    "    clf = clf.fit(bow,y_train)\n",
    "    pred = clf.predict(vec.transform(X_test))\n",
    "    \n",
    "    print(\"{0} train samples\".format(train_size))\n",
    "    print(classification_report(pred, y_test))\n",
    "    score = f1_score(pred, y_test)\n",
    "    scores.append(score)\n",
    "    train_szs.append(train_size)\n",
    "    \n",
    "    pred_probs = clf.predict_proba(vec.transform(X_pool))\n",
    "    confidences = [get_confidence(probs) for probs in pred_probs]\n",
    "    \n",
    "    X_train = np.concatenate([X_train, X_pool[np.argsort(confidences)[:step]]])\n",
    "    y_train = np.concatenate([y_train, y_pool[np.argsort(confidences)[:step]]])\n",
    "    X_pool = X_pool[sorted(np.argsort(confidences)[step:])]\n",
    "    y_pool = y_pool[sorted(np.argsort(confidences)[step:])]\n",
    "    train_size += step"
   ]
  },
  {
   "cell_type": "code",
   "execution_count": 23,
   "metadata": {},
   "outputs": [
    {
     "name": "stdout",
     "output_type": "stream",
     "text": [
      "4179 train samples\n",
      "              precision    recall  f1-score   support\n",
      "\n",
      "           0       1.00      0.98      0.99      1215\n",
      "           1       0.88      0.99      0.93       178\n",
      "\n",
      "   micro avg       0.98      0.98      0.98      1393\n",
      "   macro avg       0.94      0.99      0.96      1393\n",
      "weighted avg       0.98      0.98      0.98      1393\n",
      "\n"
     ]
    }
   ],
   "source": [
    "vec = CountVectorizer(ngram_range=(1, 1))\n",
    "bow = vec.fit_transform(X)\n",
    "clf = clf.fit(bow,y)\n",
    "pred = clf.predict(vec.transform(X_test))\n",
    "\n",
    "print(\"{0} train samples\".format(dataset_size))\n",
    "print(classification_report(pred, y_test))"
   ]
  },
  {
   "cell_type": "code",
   "execution_count": 24,
   "metadata": {},
   "outputs": [],
   "source": [
    "from matplotlib import pyplot as plt\n",
    "\n",
    "%matplotlib inline"
   ]
  },
  {
   "cell_type": "code",
   "execution_count": 25,
   "metadata": {},
   "outputs": [
    {
     "data": {
      "text/plain": [
       "[<matplotlib.lines.Line2D at 0x1a2721c0f0>]"
      ]
     },
     "execution_count": 25,
     "metadata": {},
     "output_type": "execute_result"
    },
    {
     "data": {
      "image/png": "[encoded data removed]",
      "text/plain": [
       "<Figure size 432x288 with 1 Axes>"
      ]
     },
     "metadata": {
      "needs_background": "light"
     },
     "output_type": "display_data"
    }
   ],
   "source": [
    "plt.plot(train_szs,scores)\n",
    "plt.plot(train_szs, [0.95 for sz in train_szs])"
   ]
  },
  {
   "cell_type": "markdown",
   "metadata": {},
   "source": [
    "Можно видеть, что для достижения лучшего качества на этом датасете дсотаточно обучиться на 300 правильно выбранных примерах."
   ]
  },
  {
   "cell_type": "code",
   "execution_count": null,
   "metadata": {},
   "outputs": [],
   "source": []
  }
 ],
 "metadata": {
  "kernelspec": {
   "display_name": "Python 3",
   "language": "python",
   "name": "python3"
  },
  "language_info": {
   "codemirror_mode": {
    "name": "ipython",
    "version": 3
   },
   "file_extension": ".py",
   "mimetype": "text/x-python",
   "name": "python",
   "nbconvert_exporter": "python",
   "pygments_lexer": "ipython3",
   "version": "3.7.1"
  }
 },
 "nbformat": 4,
 "nbformat_minor": 2
}
